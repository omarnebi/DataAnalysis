{
 "cells": [
  {
   "cell_type": "code",
   "execution_count": 3,
   "id": "36b28c3f",
   "metadata": {},
   "outputs": [],
   "source": [
    "import pandas as pd\n",
    "import numpy as np \n",
    "import matplotlib.pyplot as plt"
   ]
  },
  {
   "cell_type": "code",
   "execution_count": 10,
   "id": "1429628d",
   "metadata": {},
   "outputs": [],
   "source": [
    "seriesexemple=pd.Series([255.24,55,369,3.898,555])"
   ]
  },
  {
   "cell_type": "code",
   "execution_count": 11,
   "id": "46b9b054",
   "metadata": {},
   "outputs": [
    {
     "data": {
      "text/plain": [
       "0    255.240\n",
       "1     55.000\n",
       "2    369.000\n",
       "3      3.898\n",
       "4    555.000\n",
       "dtype: float64"
      ]
     },
     "execution_count": 11,
     "metadata": {},
     "output_type": "execute_result"
    }
   ],
   "source": [
    "seriesexemple"
   ]
  },
  {
   "cell_type": "code",
   "execution_count": 12,
   "id": "30323447",
   "metadata": {},
   "outputs": [],
   "source": [
    "seriesexemple.name='exemple of numbers'"
   ]
  },
  {
   "cell_type": "code",
   "execution_count": 13,
   "id": "bf89a49b",
   "metadata": {},
   "outputs": [
    {
     "data": {
      "text/plain": [
       "0    255.240\n",
       "1     55.000\n",
       "2    369.000\n",
       "3      3.898\n",
       "4    555.000\n",
       "Name: exemple of numbers, dtype: float64"
      ]
     },
     "execution_count": 13,
     "metadata": {},
     "output_type": "execute_result"
    }
   ],
   "source": [
    "seriesexemple"
   ]
  },
  {
   "cell_type": "code",
   "execution_count": 14,
   "id": "51c3f8cc",
   "metadata": {},
   "outputs": [
    {
     "data": {
      "text/plain": [
       "255.24"
      ]
     },
     "execution_count": 14,
     "metadata": {},
     "output_type": "execute_result"
    }
   ],
   "source": [
    "seriesexemple[0]"
   ]
  },
  {
   "cell_type": "code",
   "execution_count": 15,
   "id": "7c019ed7",
   "metadata": {},
   "outputs": [
    {
     "data": {
      "text/plain": [
       "1     55.0\n",
       "2    369.0\n",
       "Name: exemple of numbers, dtype: float64"
      ]
     },
     "execution_count": 15,
     "metadata": {},
     "output_type": "execute_result"
    }
   ],
   "source": [
    "seriesexemple[1:3]"
   ]
  },
  {
   "cell_type": "code",
   "execution_count": 16,
   "id": "c43d4077",
   "metadata": {},
   "outputs": [
    {
     "data": {
      "text/plain": [
       "0    255.240\n",
       "1     55.000\n",
       "2    369.000\n",
       "3      3.898\n",
       "4    555.000\n",
       "Name: exemple of numbers, dtype: float64"
      ]
     },
     "execution_count": 16,
     "metadata": {},
     "output_type": "execute_result"
    }
   ],
   "source": [
    "seriesexemple[:]"
   ]
  },
  {
   "cell_type": "code",
   "execution_count": 17,
   "id": "49a87d20",
   "metadata": {},
   "outputs": [
    {
     "data": {
      "text/plain": [
       "RangeIndex(start=0, stop=5, step=1)"
      ]
     },
     "execution_count": 17,
     "metadata": {},
     "output_type": "execute_result"
    }
   ],
   "source": [
    "seriesexemple.index"
   ]
  },
  {
   "cell_type": "code",
   "execution_count": 18,
   "id": "d84908bd",
   "metadata": {},
   "outputs": [],
   "source": [
    "certificates_earned = pd.Series(\n",
    "    [8, 2, 5, 6],\n",
    "    index=['Tom', 'Kris', 'Ahmad', 'Beau']\n",
    ")"
   ]
  },
  {
   "cell_type": "code",
   "execution_count": 19,
   "id": "a454cb20",
   "metadata": {},
   "outputs": [
    {
     "data": {
      "text/plain": [
       "Tom      8\n",
       "Kris     2\n",
       "Ahmad    5\n",
       "Beau     6\n",
       "dtype: int64"
      ]
     },
     "execution_count": 19,
     "metadata": {},
     "output_type": "execute_result"
    }
   ],
   "source": [
    "certificates_earned "
   ]
  },
  {
   "cell_type": "code",
   "execution_count": 20,
   "id": "141b0075",
   "metadata": {},
   "outputs": [
    {
     "data": {
      "text/plain": [
       "8"
      ]
     },
     "execution_count": 20,
     "metadata": {},
     "output_type": "execute_result"
    }
   ],
   "source": [
    "certificates_earned['Tom']"
   ]
  },
  {
   "cell_type": "code",
   "execution_count": 21,
   "id": "6045c469",
   "metadata": {},
   "outputs": [
    {
     "data": {
      "text/plain": [
       "8"
      ]
     },
     "execution_count": 21,
     "metadata": {},
     "output_type": "execute_result"
    }
   ],
   "source": [
    "certificates_earned[0]"
   ]
  },
  {
   "cell_type": "code",
   "execution_count": 25,
   "id": "d22ac2e8",
   "metadata": {},
   "outputs": [
    {
     "data": {
      "text/plain": [
       "Tom       True\n",
       "Kris     False\n",
       "Ahmad    False\n",
       "Beau      True\n",
       "dtype: bool"
      ]
     },
     "execution_count": 25,
     "metadata": {},
     "output_type": "execute_result"
    }
   ],
   "source": [
    "certificates_earned>5"
   ]
  },
  {
   "cell_type": "code",
   "execution_count": 26,
   "id": "b50ba5a4",
   "metadata": {},
   "outputs": [
    {
     "name": "stdout",
     "output_type": "stream",
     "text": [
      "Tom     8\n",
      "Beau    6\n",
      "dtype: int64\n"
     ]
    }
   ],
   "source": [
    "\n",
    "print(certificates_earned[certificates_earned > 5])"
   ]
  },
  {
   "cell_type": "code",
   "execution_count": 27,
   "id": "7ba89359",
   "metadata": {},
   "outputs": [
    {
     "data": {
      "text/plain": [
       "5.25"
      ]
     },
     "execution_count": 27,
     "metadata": {},
     "output_type": "execute_result"
    }
   ],
   "source": [
    "certificates_earned.mean()"
   ]
  },
  {
   "cell_type": "code",
   "execution_count": 28,
   "id": "177f3bfd",
   "metadata": {},
   "outputs": [],
   "source": [
    "certificates_earned[certificates_earned > 5]=0"
   ]
  },
  {
   "cell_type": "code",
   "execution_count": 29,
   "id": "8842c9d5",
   "metadata": {},
   "outputs": [
    {
     "data": {
      "text/plain": [
       "Series([], dtype: int64)"
      ]
     },
     "execution_count": 29,
     "metadata": {},
     "output_type": "execute_result"
    }
   ],
   "source": [
    "certificates_earned[certificates_earned > 5]"
   ]
  },
  {
   "cell_type": "code",
   "execution_count": 30,
   "id": "aef0de55",
   "metadata": {},
   "outputs": [
    {
     "data": {
      "text/plain": [
       "Tom      0\n",
       "Kris     2\n",
       "Ahmad    5\n",
       "Beau     0\n",
       "dtype: int64"
      ]
     },
     "execution_count": 30,
     "metadata": {},
     "output_type": "execute_result"
    }
   ],
   "source": [
    "certificates_earned"
   ]
  },
  {
   "cell_type": "code",
   "execution_count": null,
   "id": "a36b0146",
   "metadata": {},
   "outputs": [],
   "source": []
  }
 ],
 "metadata": {
  "kernelspec": {
   "display_name": "Python 3 (ipykernel)",
   "language": "python",
   "name": "python3"
  },
  "language_info": {
   "codemirror_mode": {
    "name": "ipython",
    "version": 3
   },
   "file_extension": ".py",
   "mimetype": "text/x-python",
   "name": "python",
   "nbconvert_exporter": "python",
   "pygments_lexer": "ipython3",
   "version": "3.9.12"
  }
 },
 "nbformat": 4,
 "nbformat_minor": 5
}
